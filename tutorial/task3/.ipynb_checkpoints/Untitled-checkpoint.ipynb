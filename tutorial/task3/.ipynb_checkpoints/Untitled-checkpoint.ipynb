{
 "cells": [
  {
   "cell_type": "code",
   "execution_count": 1,
   "metadata": {},
   "outputs": [],
   "source": [
    "import pandas as pd\n"
   ]
  },
  {
   "cell_type": "code",
   "execution_count": 2,
   "metadata": {},
   "outputs": [
    {
     "data": {
      "text/plain": [
       "<bound method NDFrame.head of        datetime   vol            name  temperature  special  curry\n",
       "0    2019-01-06  1385    カレー入りソーセージカツ          7.3        0      1\n",
       "1    2019-01-07  1376          豚肉の生姜焼          9.8        0      0\n",
       "2    2019-01-08  1215          鶏チリソース         10.9        0      0\n",
       "3    2019-01-09   837        手作りロースカツ          5.1        0      0\n",
       "4    2019-01-13  1341     鶏の照り焼きマスタード          5.8        0      0\n",
       "..          ...   ...             ...          ...      ...    ...\n",
       "126  2019-07-09   560            プルコギ         28.8        0      0\n",
       "127  2019-07-10  1309          ポークカレー         33.9        1      1\n",
       "128  2019-07-13   579  鶏のから揚げねぎ塩炒めソース         30.9        0      0\n",
       "129  2019-07-14   436       豚冷シャブ野菜添え         30.3        0      0\n",
       "130  2019-07-15   494          白身魚フライ         30.9        0      0\n",
       "\n",
       "[131 rows x 6 columns]>"
      ]
     },
     "execution_count": 2,
     "metadata": {},
     "output_type": "execute_result"
    }
   ],
   "source": [
    "train = pd.read_csv('./data/train.csv', encoding='ms932')\n",
    "train.head"
   ]
  },
  {
   "cell_type": "code",
   "execution_count": null,
   "metadata": {},
   "outputs": [],
   "source": []
  }
 ],
 "metadata": {
  "kernelspec": {
   "display_name": "Python 3",
   "language": "python",
   "name": "python3"
  },
  "language_info": {
   "codemirror_mode": {
    "name": "ipython",
    "version": 3
   },
   "file_extension": ".py",
   "mimetype": "text/x-python",
   "name": "python",
   "nbconvert_exporter": "python",
   "pygments_lexer": "ipython3",
   "version": "3.8.5"
  }
 },
 "nbformat": 4,
 "nbformat_minor": 4
}
